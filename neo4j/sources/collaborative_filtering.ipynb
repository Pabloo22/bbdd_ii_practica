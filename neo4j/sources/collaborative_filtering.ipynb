{
 "cells": [
  {
   "cell_type": "markdown",
   "metadata": {},
   "source": [
    "# Filtro colaborativo"
   ]
  },
  {
   "cell_type": "markdown",
   "metadata": {},
   "source": [
    "Por otro lado, tras analizar el feedback de los diseñadores de niveles se ha visto que una de las features más demandas es la recomendación de monstruos a la hora de crear un encuentro, es decir, el grupo que monstruos a los que los jugadores se tiene que enfrentar en una sala. Por ello senecesita implementar un sistema que dada una sala que al menos contenga un monstruo sea capaz  de recomendar otros 5 monstruos que podrían aparecer en el encuentro. Utilizar los datos proporcionados para realizar un filtro colaborativo que recomiende monstruos que se podrían incluir en un encuentro. Impementar en Python dos funciones:\n"
   ]
  },
  {
   "cell_type": "markdown",
   "metadata": {},
   "source": [
    "### 1. Una que realice una consulta Cypher y sin usar plugins busque otros monstruos que co- aparezcan en otras salas con los monstruos de nuestro encuentro. El siguiente diagrama explica mejor este concepto.\n",
    "\n",
    "<p align=\"center\">\n",
    "    <img src=\"./recommendations.png\" alt=\"Recommendations\" width=\"500\"/>\n",
    "</p>\n",
    "<style>\n",
    "  .centered {\n",
    "    max-width: 500px;\n",
    "    margin: 0 auto; /* This centers the element horizontally */\n",
    "    text-align: center; /* This centers the text inside the element */\n",
    "  }\n",
    "</style>\n",
    "<p class=\"centered\">\n",
    "  Nos interesa recomendar monstruos para el encuentro de la sala azul, así que buscamos otras salas\n",
    "donde aparezcan los monstruos de la sala azul, en este caso la sala roja y la verde. A continuación,\n",
    "listamos aquellos monstruos que aparecen en las salas rojas y verdes, pero no en la azul, estos\n",
    "monstruos serán los que se recomienden para el encuentro\n",
    "</p>"
   ]
  },
  {
   "cell_type": "markdown",
   "metadata": {},
   "source": [
    "### 2. Una que utilice el plugin de GDS para realizar una recomendación de 5 monstruos ordenados del que mas recomendaría al que menos recomendaría"
   ]
  }
 ],
 "metadata": {
  "language_info": {
   "name": "python"
  }
 },
 "nbformat": 4,
 "nbformat_minor": 2
}
