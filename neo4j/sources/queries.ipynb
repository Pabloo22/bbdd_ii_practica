{
 "cells": [
  {
   "cell_type": "code",
   "execution_count": 1,
   "id": "bb4b1708",
   "metadata": {},
   "outputs": [],
   "source": [
    "from neo4j import GraphDatabase\n",
    "driver = GraphDatabase.driver('bolt://neo4j:7687', auth=(\"neo4j\", \"BDII2023\"))\n",
    "session = driver.session()\n",
    "def run_query(query, return_data=True, **kwargs):\n",
    "        results = session.run(query, kwargs)\n",
    "        if return_data:\n",
    "            return results.data()\n",
    "        return results"
   ]
  },
  {
   "cell_type": "markdown",
   "id": "b967227e",
   "metadata": {},
   "source": [
    "### 9. Calcular el total de oro que valen los tesoros de una mazmorra."
   ]
  },
  {
   "cell_type": "code",
   "execution_count": 2,
   "id": "4c5741ed",
   "metadata": {},
   "outputs": [
    {
     "data": {
      "text/plain": [
       "[{'total_gold': 720.0}]"
      ]
     },
     "execution_count": 2,
     "metadata": {},
     "output_type": "execute_result"
    }
   ],
   "source": [
    "mazmorra = \"Bentclock, Laboratory of the Sexy Thieves\"\n",
    "query = \"\"\"\n",
    "MATCH (r:Room{dungeon_name: $mazmorra})-[c:CONTAINS]->(l:Loot)\n",
    "RETURN SUM(c.amount * l.gold) as total_gold\n",
    "\"\"\"\n",
    "results = run_query(query, mazmorra=mazmorra)\n",
    "results"
   ]
  },
  {
   "cell_type": "markdown",
   "id": "ff6948c9",
   "metadata": {},
   "source": [
    "### 10. Calcular el nivel medio de los monstruos de una mazmorra.\n"
   ]
  },
  {
   "cell_type": "code",
   "execution_count": 3,
   "id": "b348581f",
   "metadata": {},
   "outputs": [
    {
     "data": {
      "text/plain": [
       "[{'mean_level': 8.56637168141593}]"
      ]
     },
     "execution_count": 3,
     "metadata": {},
     "output_type": "execute_result"
    }
   ],
   "source": [
    "mazmorra = \"Bentclock, Laboratory of the Sexy Thieves\"\n",
    "query = \"\"\"\n",
    "MATCH (r:Room{dungeon_name: $mazmorra})-[c:CONTAINS]->(m:Monster)\n",
    "RETURN AVG(m.level * c.amount) as mean_level\n",
    "\"\"\"\n",
    "results = run_query(query, mazmorra=mazmorra)\n",
    "results"
   ]
  },
  {
   "cell_type": "markdown",
   "id": "850cb370",
   "metadata": {},
   "source": [
    "### 11. Calcular el número medio de pasillos (tanto entrantes como salientes) que tienen las salas de una mazmorra.\n"
   ]
  },
  {
   "cell_type": "code",
   "execution_count": 10,
   "id": "209db666",
   "metadata": {},
   "outputs": [
    {
     "data": {
      "text/plain": [
       "[{'mean_degree': 4.271186440677967}]"
      ]
     },
     "execution_count": 10,
     "metadata": {},
     "output_type": "execute_result"
    }
   ],
   "source": [
    "mazmorra = \"Bentclock, Laboratory of the Sexy Thieves\"\n",
    "query = \"\"\"\n",
    "MATCH (r1: Room{dungeon_name: $mazmorra})-[i: IS_CONNECTED]-(r2: Room{dungeon_name: $mazmorra})\n",
    "WITH r1, COUNT(i) as degree\n",
    "RETURN AVG(degree) as mean_degree\n",
    "\"\"\"\n",
    "results = run_query(query, mazmorra=mazmorra)\n",
    "results"
   ]
  },
  {
   "cell_type": "markdown",
   "id": "4f576102",
   "metadata": {},
   "source": [
    "### 12. Buscar la/las salas que contienen el/los monstruos de más nivel de la mazmorra.\n"
   ]
  },
  {
   "cell_type": "code",
   "execution_count": 39,
   "id": "be1dd5bf",
   "metadata": {},
   "outputs": [
    {
     "data": {
      "text/plain": [
       "[{'room_name': 'snobbish catacombs of otaku'},\n",
       " {'room_name': 'fancy gallery of presidents'}]"
      ]
     },
     "execution_count": 39,
     "metadata": {},
     "output_type": "execute_result"
    }
   ],
   "source": [
    "mazmorra = \"Bentclock, Laboratory of the Sexy Thieves\"\n",
    "query = \"\"\"\n",
    "MATCH (r: Room{dungeon_name: $mazmorra})-[:CONTAINS]->(m:Monster)\n",
    "WITH MAX(m.level) as max_level\n",
    "MATCH (r2:Room{dungeon_name: $mazmorra})-[:CONTAINS]->(m:Monster{level: max_level})\n",
    "RETURN r2.room_name as room_name\n",
    "\"\"\"\n",
    "results = run_query(query, mazmorra=mazmorra)\n",
    "results"
   ]
  },
  {
   "cell_type": "markdown",
   "id": "dc989641",
   "metadata": {},
   "source": [
    "### 13. Calcular la experiencia total de cada uno de los encuentros (grupo de monstruos presentes en una sala) de una mazmorra y mostrarlos ordenados de mayor a menor experiencia.\n"
   ]
  },
  {
   "cell_type": "code",
   "execution_count": 42,
   "id": "cb83fe44",
   "metadata": {},
   "outputs": [
    {
     "data": {
      "text/plain": [
       "[{'r.room_name': 'snobbish catacombs of otaku', 'total_exp': 5450},\n",
       " {'r.room_name': 'amorous bedroom ', 'total_exp': 5000},\n",
       " {'r.room_name': 'fancy gallery of presidents', 'total_exp': 5000},\n",
       " {'r.room_name': 'ballroom ', 'total_exp': 4350},\n",
       " {'r.room_name': 'atrium of sumo wrestlers', 'total_exp': 3850},\n",
       " {'r.room_name': 'larder of presidents', 'total_exp': 3450},\n",
       " {'r.room_name': 'bedroom of bandits', 'total_exp': 3400},\n",
       " {'r.room_name': 'laboratory ', 'total_exp': 3350},\n",
       " {'r.room_name': 'fancy larder ', 'total_exp': 2750},\n",
       " {'r.room_name': 'ancient observatory of stoners', 'total_exp': 2700},\n",
       " {'r.room_name': 'screeching barracks of nerds', 'total_exp': 2650},\n",
       " {'r.room_name': 'abnormal vault of bandits', 'total_exp': 2500},\n",
       " {'r.room_name': 'observatory ', 'total_exp': 2450},\n",
       " {'r.room_name': 'uptight storage room of hippies', 'total_exp': 2300},\n",
       " {'r.room_name': 'kitchen of unknowns', 'total_exp': 2300},\n",
       " {'r.room_name': 'worried sanctum ', 'total_exp': 2250},\n",
       " {'r.room_name': 'smoking room of thieves', 'total_exp': 2250},\n",
       " {'r.room_name': 'smelly dressing room of emperors', 'total_exp': 2250},\n",
       " {'r.room_name': 'wandering throne room ', 'total_exp': 2250},\n",
       " {'r.room_name': 'wine cellar of kings', 'total_exp': 2250},\n",
       " {'r.room_name': 'throne room ', 'total_exp': 2000},\n",
       " {'r.room_name': 'obnoxious stable of hippies', 'total_exp': 1800},\n",
       " {'r.room_name': 'ballroom of kings', 'total_exp': 1600},\n",
       " {'r.room_name': 'clumsy chapel of pirates', 'total_exp': 1550},\n",
       " {'r.room_name': 'prison of titans', 'total_exp': 1350},\n",
       " {'r.room_name': 'vault of pirates', 'total_exp': 1350},\n",
       " {'r.room_name': 'atrium of shoguns', 'total_exp': 1300},\n",
       " {'r.room_name': 'drawing room ', 'total_exp': 1150},\n",
       " {'r.room_name': 'vault ', 'total_exp': 1150},\n",
       " {'r.room_name': 'library ', 'total_exp': 1150},\n",
       " {'r.room_name': 'sanctum sanctorum of sumo wrestlers', 'total_exp': 1150},\n",
       " {'r.room_name': 'uptight storage room ', 'total_exp': 1150},\n",
       " {'r.room_name': \"perverted servant's quarters \", 'total_exp': 1100},\n",
       " {'r.room_name': 'itchy larder ', 'total_exp': 1100},\n",
       " {'r.room_name': 'perverted smoking room of nerds', 'total_exp': 1100},\n",
       " {'r.room_name': \"servant's quarters of robots\", 'total_exp': 1100},\n",
       " {'r.room_name': 'dressing room of otaku', 'total_exp': 1100},\n",
       " {'r.room_name': 'kitchen ', 'total_exp': 1100},\n",
       " {'r.room_name': 'smelly observatory ', 'total_exp': 1100},\n",
       " {'r.room_name': 'uptight atrium ', 'total_exp': 1100},\n",
       " {'r.room_name': 'smoking room ', 'total_exp': 1100},\n",
       " {'r.room_name': 'embarrassed study ', 'total_exp': 900},\n",
       " {'r.room_name': 'wandering armory ', 'total_exp': 900},\n",
       " {'r.room_name': 'abnormal crypt of stoners', 'total_exp': 900},\n",
       " {'r.room_name': 'itchy smoking room of thieves', 'total_exp': 900},\n",
       " {'r.room_name': 'game room of hippies', 'total_exp': 800},\n",
       " {'r.room_name': 'unsightly bathroom ', 'total_exp': 800},\n",
       " {'r.room_name': 'atrium ', 'total_exp': 750},\n",
       " {'r.room_name': 'lounge of furries', 'total_exp': 650},\n",
       " {'r.room_name': 'itchy parlour ', 'total_exp': 550},\n",
       " {'r.room_name': 'scullery ', 'total_exp': 450},\n",
       " {'r.room_name': 'amorous treasure room ', 'total_exp': 450},\n",
       " {'r.room_name': 'laboratory of stoners', 'total_exp': 450},\n",
       " {'r.room_name': 'wine cellar ', 'total_exp': 300},\n",
       " {'r.room_name': 'agreeable lounge ', 'total_exp': 300},\n",
       " {'r.room_name': 'itchy great hall ', 'total_exp': 200},\n",
       " {'r.room_name': 'agreeable sanctum ', 'total_exp': 200}]"
      ]
     },
     "execution_count": 42,
     "metadata": {},
     "output_type": "execute_result"
    }
   ],
   "source": [
    "mazmorra = \"Bentclock, Laboratory of the Sexy Thieves\"\n",
    "query = \"\"\"\n",
    "MATCH (r: Room{dungeon_name: $mazmorra})-[c: CONTAINS]->(m: Monster)\n",
    "RETURN r.room_name, SUM(c.amount * m.exp) as total_exp\n",
    "ORDER BY total_exp DESC\n",
    "\"\"\"\n",
    "results = run_query(query, mazmorra=mazmorra)\n",
    "results"
   ]
  },
  {
   "cell_type": "markdown",
   "id": "43866fd1",
   "metadata": {},
   "source": [
    "### 14. Buscar la sala dónde este el encuentro (grupo de monstruos presentes en una sala) que más experiencia da de una mazmorra."
   ]
  },
  {
   "cell_type": "code",
   "execution_count": 16,
   "id": "5bd10d1b",
   "metadata": {},
   "outputs": [
    {
     "data": {
      "text/plain": [
       "[{'room_name': 'snobbish catacombs of otaku', 'total_exp': 5450}]"
      ]
     },
     "execution_count": 16,
     "metadata": {},
     "output_type": "execute_result"
    }
   ],
   "source": [
    "mazmorra = \"Bentclock, Laboratory of the Sexy Thieves\"\n",
    "query = \"\"\"\n",
    "MATCH (r: Room{dungeon_name: $mazmorra})-[c: CONTAINS]->(m: Monster)\n",
    "WITH r.room_name as room_name, SUM(c.amount * m.exp) as total_exp\n",
    "WITH MAX(total_exp) AS max_exp\n",
    "MATCH (r: Room{dungeon_name: $mazmorra})-[c: CONTAINS]->(m: Monster)\n",
    "WITH r.room_name as room_name, SUM(c.amount * m.exp) as total_exp, max_exp\n",
    "WHERE total_exp = max_exp\n",
    "RETURN room_name, total_exp\n",
    "\"\"\"\n",
    "results = run_query(query, mazmorra=mazmorra)\n",
    "results"
   ]
  }
 ],
 "metadata": {
  "kernelspec": {
   "display_name": "Python 3 (ipykernel)",
   "language": "python",
   "name": "python3"
  },
  "language_info": {
   "codemirror_mode": {
    "name": "ipython",
    "version": 3
   },
   "file_extension": ".py",
   "mimetype": "text/x-python",
   "name": "python",
   "nbconvert_exporter": "python",
   "pygments_lexer": "ipython3",
   "version": "3.11.6"
  }
 },
 "nbformat": 4,
 "nbformat_minor": 5
}
