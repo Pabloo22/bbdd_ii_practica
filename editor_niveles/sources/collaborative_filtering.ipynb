{
 "cells": [
  {
   "cell_type": "markdown",
   "metadata": {},
   "source": [
    "# Filtro colaborativo"
   ]
  },
  {
   "cell_type": "markdown",
   "metadata": {},
   "source": [
    "Por otro lado, tras analizar el feedback de los diseñadores de niveles se ha visto que una de las features más demandas es la recomendación de monstruos a la hora de crear un encuentro, es decir, el grupo que monstruos a los que los jugadores se tiene que enfrentar en una sala. Por ello senecesita implementar un sistema que dada una sala que al menos contenga un monstruo sea capaz  de recomendar otros 5 monstruos que podrían aparecer en el encuentro. Utilizar los datos proporcionados para realizar un filtro colaborativo que recomiende monstruos que se podrían incluir en un encuentro. Impementar en Python dos funciones:\n"
   ]
  },
  {
   "cell_type": "markdown",
   "metadata": {},
   "source": [
    "### 1. Una que realice una consulta Cypher y sin usar plugins busque otros monstruos que co- aparezcan en otras salas con los monstruos de nuestro encuentro. El siguiente diagrama explica mejor este concepto.\n",
    "\n",
    "<p align=\"center\">\n",
    "    <img src=\"./recommendations.png\" alt=\"Recommendations\" width=\"500\"/>\n",
    "</p>\n",
    "<style>\n",
    "  .centered {\n",
    "    max-width: 500px;\n",
    "    margin: 0 auto; /* This centers the element horizontally */\n",
    "    text-align: center; /* This centers the text inside the element */\n",
    "  }\n",
    "</style>\n",
    "<p class=\"centered\">\n",
    "  Nos interesa recomendar monstruos para el encuentro de la sala azul, así que buscamos otras salas\n",
    "donde aparezcan los monstruos de la sala azul, en este caso la sala roja y la verde. A continuación,\n",
    "listamos aquellos monstruos que aparecen en las salas rojas y verdes, pero no en la azul, estos\n",
    "monstruos serán los que se recomienden para el encuentro\n",
    "</p>"
   ]
  },
  {
   "cell_type": "code",
   "execution_count": 1,
   "metadata": {},
   "outputs": [],
   "source": [
    "from neo4j import GraphDatabase\n",
    "driver = GraphDatabase.driver('bolt://neo4j:7687', auth=(\"neo4j\", \"BDII2023\"))\n",
    "session = driver.session()\n",
    "def run_query(query, return_data=True, **kwargs):\n",
    "        results = session.run(query, kwargs)\n",
    "        if return_data:\n",
    "            return results.data()\n",
    "        return results"
   ]
  },
  {
   "cell_type": "code",
   "execution_count": 30,
   "metadata": {},
   "outputs": [
    {
     "data": {
      "text/plain": [
       "[{'name': 'doppelganger', 'count': 122},\n",
       " {'name': 'revenant', 'count': 98},\n",
       " {'name': 'vampire spawn', 'count': 94},\n",
       " {'name': 'thug', 'count': 32},\n",
       " {'name': 'assassin', 'count': 20}]"
      ]
     },
     "execution_count": 30,
     "metadata": {},
     "output_type": "execute_result"
    }
   ],
   "source": [
    "query = \"\"\"\n",
    "// Primero, dado el nombre de la habitación, encuentra los monstruos en esa habitación.\n",
    "MATCH (r:Room{room_name: $room})-[c:CONTAINS]->(m:Monster)\n",
    "WITH r, m\n",
    "// Luego, encuentra todas las otras habitaciones que contengan al menos uno de esos monstruos.\n",
    "MATCH (r2:Room)-[c:CONTAINS]->(m)\n",
    "// Asegúrate de que no estamos mirando la misma habitación.\n",
    "WHERE r2 <> r\n",
    "WITH r2 //, m // Si m2 <> m no es usado, esto no se necesita.\n",
    "// Finalmente, cuenta cuántas veces aparece cada monstruo en las otras habitaciones.\n",
    "MATCH (r2)-[c:CONTAINS]->(m2:Monster)\n",
    "// WHERE m2 <> m // Esto no funciona\n",
    "// Dado que queremos recomendar monstruos que no estén ya en la habitación, filtramos los monstruos que ya están en la habitación utilizando lo siguiente:\n",
    "WHERE NOT EXISTS {MATCH (Room{room_name: $room})-[:CONTAINS]->(m2)}\n",
    "RETURN m2.name AS name, COUNT(m2) as count\n",
    "ORDER BY count DESC\n",
    "\"\"\"\n",
    "room = \"sexy garden of presidents\"\n",
    "results = run_query(query, room=room)\n",
    "results"
   ]
  },
  {
   "cell_type": "code",
   "execution_count": 40,
   "metadata": {},
   "outputs": [],
   "source": [
    "def recommend_monsters(room):\n",
    "    query = \"\"\"\n",
    "    // Primero, dado el nombre de la habitación, encuentra los monstruos en esa habitación.\n",
    "    MATCH (r:Room{room_name: $room})-[c:CONTAINS]->(m:Monster)\n",
    "    WITH r, m\n",
    "    // Luego, encuentra todas las otras habitaciones que contengan al menos uno de esos monstruos.\n",
    "    MATCH (r2:Room)-[c:CONTAINS]->(m)\n",
    "    // Asegúrate de que no estamos mirando la misma habitación.\n",
    "    WHERE r2 <> r\n",
    "    WITH r2 //, m // Si m2 <> m no es usado, esto no se necesita.\n",
    "    // Finalmente, cuenta cuántas veces aparece cada monstruo en las otras habitaciones.\n",
    "    MATCH (r2)-[c:CONTAINS]->(m2:Monster)\n",
    "    // WHERE m2 <> m // Esto no funciona\n",
    "    // Dado que queremos recomendar monstruos que no estén ya en la habitación, filtramos los monstruos que ya están en la habitación utilizando lo siguiente:\n",
    "    WHERE NOT EXISTS {MATCH (Room{room_name: $room})-[:CONTAINS]->(m2)}\n",
    "    RETURN m2.name AS name, COUNT(m2) as count\n",
    "    ORDER BY count DESC\n",
    "    \"\"\"\n",
    "    results = run_query(query, room=room)\n",
    "    return results"
   ]
  },
  {
   "cell_type": "code",
   "execution_count": 41,
   "metadata": {},
   "outputs": [
    {
     "data": {
      "text/plain": [
       "[{'name': 'doppelganger', 'count': 122},\n",
       " {'name': 'revenant', 'count': 98},\n",
       " {'name': 'vampire spawn', 'count': 94},\n",
       " {'name': 'thug', 'count': 32},\n",
       " {'name': 'assassin', 'count': 20}]"
      ]
     },
     "execution_count": 41,
     "metadata": {},
     "output_type": "execute_result"
    }
   ],
   "source": [
    "recommend_monsters(\"sexy garden of presidents\")"
   ]
  },
  {
   "cell_type": "markdown",
   "metadata": {},
   "source": [
    "### 2. Una que utilice el plugin de GDS para realizar una recomendación de 5 monstruos ordenados del que mas recomendaría al que menos recomendaría"
   ]
  },
  {
   "cell_type": "code",
   "execution_count": 3,
   "metadata": {},
   "outputs": [],
   "source": [
    "from graphdatascience import GraphDataScience\n",
    "\n",
    "gds = GraphDataScience(\"neo4j://neo4j:7687\", auth=(\"neo4j\", \"BDII2023\"))"
   ]
  },
  {
   "cell_type": "markdown",
   "metadata": {},
   "source": [
    "Primero, creamos una proyección de los nodos de monstruos y salas, y las relaciones entre ellos. La dirección de la relación se hace no dirigida para que el PageRank personalizado funcione."
   ]
  },
  {
   "cell_type": "code",
   "execution_count": 15,
   "metadata": {},
   "outputs": [],
   "source": [
    "gds.graph.drop(\"rooms_monsters\")"
   ]
  },
  {
   "cell_type": "code",
   "execution_count": 16,
   "metadata": {},
   "outputs": [],
   "source": [
    "try:\n",
    "    gds.graph.drop(\"rooms_monsters\")\n",
    "except:\n",
    "    pass\n",
    "\n",
    "G, result = gds.graph.project(\n",
    "  'rooms_monsters',\n",
    "  ['Room', 'Monster'],\n",
    "  {'CONTAINS': {'orientation': 'UNDIRECTED'}}\n",
    ")"
   ]
  },
  {
   "cell_type": "markdown",
   "metadata": {},
   "source": [
    "Para usar el PageRank personalizado, se necesita un nodo de inicio. Para ello, como el algoritmo toma como entrada el id del nodo, usamos la función `gds.find_node_id()` para encontrar el id de la habitacíon en cuetión."
   ]
  },
  {
   "cell_type": "code",
   "execution_count": 5,
   "metadata": {},
   "outputs": [
    {
     "data": {
      "text/plain": [
       "5748"
      ]
     },
     "execution_count": 5,
     "metadata": {},
     "output_type": "execute_result"
    }
   ],
   "source": [
    "source_id = gds.find_node_id([\"Room\"], {\"room_name\": \"sexy garden of presidents\"})\n",
    "source_id"
   ]
  },
  {
   "cell_type": "markdown",
   "metadata": {},
   "source": [
    "Ejecutamos el algoritmo, en stream, por lo que no guardamos los resultados en la base de datos. En su lugar, nos devuelve un DataFrame con los resultados."
   ]
  },
  {
   "cell_type": "code",
   "execution_count": 24,
   "metadata": {},
   "outputs": [
    {
     "data": {
      "text/html": [
       "<div>\n",
       "<style scoped>\n",
       "    .dataframe tbody tr th:only-of-type {\n",
       "        vertical-align: middle;\n",
       "    }\n",
       "\n",
       "    .dataframe tbody tr th {\n",
       "        vertical-align: top;\n",
       "    }\n",
       "\n",
       "    .dataframe thead th {\n",
       "        text-align: right;\n",
       "    }\n",
       "</style>\n",
       "<table border=\"1\" class=\"dataframe\">\n",
       "  <thead>\n",
       "    <tr style=\"text-align: right;\">\n",
       "      <th></th>\n",
       "      <th>nodeId</th>\n",
       "      <th>score</th>\n",
       "    </tr>\n",
       "  </thead>\n",
       "  <tbody>\n",
       "    <tr>\n",
       "      <th>5748</th>\n",
       "      <td>5748</td>\n",
       "      <td>0.151192</td>\n",
       "    </tr>\n",
       "    <tr>\n",
       "      <th>11213</th>\n",
       "      <td>11213</td>\n",
       "      <td>0.144845</td>\n",
       "    </tr>\n",
       "    <tr>\n",
       "      <th>11212</th>\n",
       "      <td>11212</td>\n",
       "      <td>0.144378</td>\n",
       "    </tr>\n",
       "    <tr>\n",
       "      <th>11211</th>\n",
       "      <td>11211</td>\n",
       "      <td>0.049783</td>\n",
       "    </tr>\n",
       "    <tr>\n",
       "      <th>11215</th>\n",
       "      <td>11215</td>\n",
       "      <td>0.039955</td>\n",
       "    </tr>\n",
       "    <tr>\n",
       "      <th>...</th>\n",
       "      <td>...</td>\n",
       "      <td>...</td>\n",
       "    </tr>\n",
       "    <tr>\n",
       "      <th>4005</th>\n",
       "      <td>4005</td>\n",
       "      <td>0.000000</td>\n",
       "    </tr>\n",
       "    <tr>\n",
       "      <th>4006</th>\n",
       "      <td>4006</td>\n",
       "      <td>0.000000</td>\n",
       "    </tr>\n",
       "    <tr>\n",
       "      <th>4007</th>\n",
       "      <td>4007</td>\n",
       "      <td>0.000000</td>\n",
       "    </tr>\n",
       "    <tr>\n",
       "      <th>4008</th>\n",
       "      <td>4008</td>\n",
       "      <td>0.000000</td>\n",
       "    </tr>\n",
       "    <tr>\n",
       "      <th>11846</th>\n",
       "      <td>12415</td>\n",
       "      <td>0.000000</td>\n",
       "    </tr>\n",
       "  </tbody>\n",
       "</table>\n",
       "<p>11847 rows × 2 columns</p>\n",
       "</div>"
      ],
      "text/plain": [
       "       nodeId     score\n",
       "5748     5748  0.151192\n",
       "11213   11213  0.144845\n",
       "11212   11212  0.144378\n",
       "11211   11211  0.049783\n",
       "11215   11215  0.039955\n",
       "...       ...       ...\n",
       "4005     4005  0.000000\n",
       "4006     4006  0.000000\n",
       "4007     4007  0.000000\n",
       "4008     4008  0.000000\n",
       "11846   12415  0.000000\n",
       "\n",
       "[11847 rows x 2 columns]"
      ]
     },
     "execution_count": 24,
     "metadata": {},
     "output_type": "execute_result"
    }
   ],
   "source": [
    "pagerank = gds.pageRank.stream(G, maxIterations=20, dampingFactor=0.85, sourceNodes=[source_id]).sort_values(\"score\", ascending=False)\n",
    "pagerank"
   ]
  },
  {
   "cell_type": "markdown",
   "metadata": {},
   "source": [
    "Vemos que nos da los ids de los nodos, por lo que usamos la función `gds.util.asNodes()` para convertirlos en nodos de la base de datos."
   ]
  },
  {
   "cell_type": "code",
   "execution_count": 25,
   "metadata": {},
   "outputs": [
    {
     "data": {
      "text/html": [
       "<div>\n",
       "<style scoped>\n",
       "    .dataframe tbody tr th:only-of-type {\n",
       "        vertical-align: middle;\n",
       "    }\n",
       "\n",
       "    .dataframe tbody tr th {\n",
       "        vertical-align: top;\n",
       "    }\n",
       "\n",
       "    .dataframe thead th {\n",
       "        text-align: right;\n",
       "    }\n",
       "</style>\n",
       "<table border=\"1\" class=\"dataframe\">\n",
       "  <thead>\n",
       "    <tr style=\"text-align: right;\">\n",
       "      <th></th>\n",
       "      <th>nodeId</th>\n",
       "      <th>score</th>\n",
       "      <th>node</th>\n",
       "    </tr>\n",
       "  </thead>\n",
       "  <tbody>\n",
       "    <tr>\n",
       "      <th>5748</th>\n",
       "      <td>5748</td>\n",
       "      <td>0.151192</td>\n",
       "      <td>(room_id, room_name, componentId, dungeon_name)</td>\n",
       "    </tr>\n",
       "    <tr>\n",
       "      <th>11213</th>\n",
       "      <td>11213</td>\n",
       "      <td>0.144845</td>\n",
       "      <td>(level, name, place, exp, type, monsters_id)</td>\n",
       "    </tr>\n",
       "    <tr>\n",
       "      <th>11212</th>\n",
       "      <td>11212</td>\n",
       "      <td>0.144378</td>\n",
       "      <td>(level, name, place, exp, type, monsters_id)</td>\n",
       "    </tr>\n",
       "    <tr>\n",
       "      <th>11211</th>\n",
       "      <td>11211</td>\n",
       "      <td>0.049783</td>\n",
       "      <td>(level, name, place, exp, type, monsters_id)</td>\n",
       "    </tr>\n",
       "    <tr>\n",
       "      <th>11215</th>\n",
       "      <td>11215</td>\n",
       "      <td>0.039955</td>\n",
       "      <td>(level, name, place, exp, type, monsters_id)</td>\n",
       "    </tr>\n",
       "    <tr>\n",
       "      <th>...</th>\n",
       "      <td>...</td>\n",
       "      <td>...</td>\n",
       "      <td>...</td>\n",
       "    </tr>\n",
       "    <tr>\n",
       "      <th>4005</th>\n",
       "      <td>4005</td>\n",
       "      <td>0.000000</td>\n",
       "      <td>(room_id, room_name, componentId, dungeon_name)</td>\n",
       "    </tr>\n",
       "    <tr>\n",
       "      <th>4006</th>\n",
       "      <td>4006</td>\n",
       "      <td>0.000000</td>\n",
       "      <td>(room_id, room_name, componentId, dungeon_name)</td>\n",
       "    </tr>\n",
       "    <tr>\n",
       "      <th>4007</th>\n",
       "      <td>4007</td>\n",
       "      <td>0.000000</td>\n",
       "      <td>(room_id, room_name, componentId, dungeon_name)</td>\n",
       "    </tr>\n",
       "    <tr>\n",
       "      <th>4008</th>\n",
       "      <td>4008</td>\n",
       "      <td>0.000000</td>\n",
       "      <td>(room_id, room_name, componentId, dungeon_name)</td>\n",
       "    </tr>\n",
       "    <tr>\n",
       "      <th>11846</th>\n",
       "      <td>12415</td>\n",
       "      <td>0.000000</td>\n",
       "      <td>(room_id, room_name, componentId, dungeon_name)</td>\n",
       "    </tr>\n",
       "  </tbody>\n",
       "</table>\n",
       "<p>11847 rows × 3 columns</p>\n",
       "</div>"
      ],
      "text/plain": [
       "       nodeId     score                                             node\n",
       "5748     5748  0.151192  (room_id, room_name, componentId, dungeon_name)\n",
       "11213   11213  0.144845     (level, name, place, exp, type, monsters_id)\n",
       "11212   11212  0.144378     (level, name, place, exp, type, monsters_id)\n",
       "11211   11211  0.049783     (level, name, place, exp, type, monsters_id)\n",
       "11215   11215  0.039955     (level, name, place, exp, type, monsters_id)\n",
       "...       ...       ...                                              ...\n",
       "4005     4005  0.000000  (room_id, room_name, componentId, dungeon_name)\n",
       "4006     4006  0.000000  (room_id, room_name, componentId, dungeon_name)\n",
       "4007     4007  0.000000  (room_id, room_name, componentId, dungeon_name)\n",
       "4008     4008  0.000000  (room_id, room_name, componentId, dungeon_name)\n",
       "11846   12415  0.000000  (room_id, room_name, componentId, dungeon_name)\n",
       "\n",
       "[11847 rows x 3 columns]"
      ]
     },
     "execution_count": 25,
     "metadata": {},
     "output_type": "execute_result"
    }
   ],
   "source": [
    "pagerank['node'] = gds.util.asNodes(pagerank['nodeId'].to_list())\n",
    "pagerank"
   ]
  },
  {
   "cell_type": "markdown",
   "metadata": {},
   "source": [
    "Vemos que el algoritmo nos devuelve nodos de tipo `Monster` y de tipo `Room`. Primero, creamos una nueva columna en el DataFrame, con el que nos quedamos con la propiedad `name` de todos los nodos"
   ]
  },
  {
   "cell_type": "code",
   "execution_count": 26,
   "metadata": {},
   "outputs": [],
   "source": [
    "pagerank['monster_name'] = pagerank['node'].apply(lambda x: x['name'])"
   ]
  },
  {
   "cell_type": "code",
   "execution_count": 27,
   "metadata": {},
   "outputs": [
    {
     "data": {
      "text/html": [
       "<div>\n",
       "<style scoped>\n",
       "    .dataframe tbody tr th:only-of-type {\n",
       "        vertical-align: middle;\n",
       "    }\n",
       "\n",
       "    .dataframe tbody tr th {\n",
       "        vertical-align: top;\n",
       "    }\n",
       "\n",
       "    .dataframe thead th {\n",
       "        text-align: right;\n",
       "    }\n",
       "</style>\n",
       "<table border=\"1\" class=\"dataframe\">\n",
       "  <thead>\n",
       "    <tr style=\"text-align: right;\">\n",
       "      <th></th>\n",
       "      <th>nodeId</th>\n",
       "      <th>score</th>\n",
       "      <th>node</th>\n",
       "      <th>monster_name</th>\n",
       "    </tr>\n",
       "  </thead>\n",
       "  <tbody>\n",
       "    <tr>\n",
       "      <th>5748</th>\n",
       "      <td>5748</td>\n",
       "      <td>0.151192</td>\n",
       "      <td>(room_id, room_name, componentId, dungeon_name)</td>\n",
       "      <td>None</td>\n",
       "    </tr>\n",
       "    <tr>\n",
       "      <th>11213</th>\n",
       "      <td>11213</td>\n",
       "      <td>0.144845</td>\n",
       "      <td>(level, name, place, exp, type, monsters_id)</td>\n",
       "      <td>wererat</td>\n",
       "    </tr>\n",
       "    <tr>\n",
       "      <th>11212</th>\n",
       "      <td>11212</td>\n",
       "      <td>0.144378</td>\n",
       "      <td>(level, name, place, exp, type, monsters_id)</td>\n",
       "      <td>gargoyle</td>\n",
       "    </tr>\n",
       "    <tr>\n",
       "      <th>11211</th>\n",
       "      <td>11211</td>\n",
       "      <td>0.049783</td>\n",
       "      <td>(level, name, place, exp, type, monsters_id)</td>\n",
       "      <td>doppelganger</td>\n",
       "    </tr>\n",
       "    <tr>\n",
       "      <th>11215</th>\n",
       "      <td>11215</td>\n",
       "      <td>0.039955</td>\n",
       "      <td>(level, name, place, exp, type, monsters_id)</td>\n",
       "      <td>revenant</td>\n",
       "    </tr>\n",
       "    <tr>\n",
       "      <th>...</th>\n",
       "      <td>...</td>\n",
       "      <td>...</td>\n",
       "      <td>...</td>\n",
       "      <td>...</td>\n",
       "    </tr>\n",
       "    <tr>\n",
       "      <th>4005</th>\n",
       "      <td>4005</td>\n",
       "      <td>0.000000</td>\n",
       "      <td>(room_id, room_name, componentId, dungeon_name)</td>\n",
       "      <td>None</td>\n",
       "    </tr>\n",
       "    <tr>\n",
       "      <th>4006</th>\n",
       "      <td>4006</td>\n",
       "      <td>0.000000</td>\n",
       "      <td>(room_id, room_name, componentId, dungeon_name)</td>\n",
       "      <td>None</td>\n",
       "    </tr>\n",
       "    <tr>\n",
       "      <th>4007</th>\n",
       "      <td>4007</td>\n",
       "      <td>0.000000</td>\n",
       "      <td>(room_id, room_name, componentId, dungeon_name)</td>\n",
       "      <td>None</td>\n",
       "    </tr>\n",
       "    <tr>\n",
       "      <th>4008</th>\n",
       "      <td>4008</td>\n",
       "      <td>0.000000</td>\n",
       "      <td>(room_id, room_name, componentId, dungeon_name)</td>\n",
       "      <td>None</td>\n",
       "    </tr>\n",
       "    <tr>\n",
       "      <th>11846</th>\n",
       "      <td>12415</td>\n",
       "      <td>0.000000</td>\n",
       "      <td>(room_id, room_name, componentId, dungeon_name)</td>\n",
       "      <td>None</td>\n",
       "    </tr>\n",
       "  </tbody>\n",
       "</table>\n",
       "<p>11847 rows × 4 columns</p>\n",
       "</div>"
      ],
      "text/plain": [
       "       nodeId     score                                             node  \\\n",
       "5748     5748  0.151192  (room_id, room_name, componentId, dungeon_name)   \n",
       "11213   11213  0.144845     (level, name, place, exp, type, monsters_id)   \n",
       "11212   11212  0.144378     (level, name, place, exp, type, monsters_id)   \n",
       "11211   11211  0.049783     (level, name, place, exp, type, monsters_id)   \n",
       "11215   11215  0.039955     (level, name, place, exp, type, monsters_id)   \n",
       "...       ...       ...                                              ...   \n",
       "4005     4005  0.000000  (room_id, room_name, componentId, dungeon_name)   \n",
       "4006     4006  0.000000  (room_id, room_name, componentId, dungeon_name)   \n",
       "4007     4007  0.000000  (room_id, room_name, componentId, dungeon_name)   \n",
       "4008     4008  0.000000  (room_id, room_name, componentId, dungeon_name)   \n",
       "11846   12415  0.000000  (room_id, room_name, componentId, dungeon_name)   \n",
       "\n",
       "       monster_name  \n",
       "5748           None  \n",
       "11213       wererat  \n",
       "11212      gargoyle  \n",
       "11211  doppelganger  \n",
       "11215      revenant  \n",
       "...             ...  \n",
       "4005           None  \n",
       "4006           None  \n",
       "4007           None  \n",
       "4008           None  \n",
       "11846          None  \n",
       "\n",
       "[11847 rows x 4 columns]"
      ]
     },
     "execution_count": 27,
     "metadata": {},
     "output_type": "execute_result"
    }
   ],
   "source": [
    "pagerank"
   ]
  },
  {
   "cell_type": "markdown",
   "metadata": {},
   "source": [
    "Vemos que los nodos `Room` no tienen la propiedad `name`, por lo que tienen un valor `None`. Por ello, hacemos un `dropna()` para eliminar estos nodos, queándonos solo con los nodos `Monster`."
   ]
  },
  {
   "cell_type": "code",
   "execution_count": 28,
   "metadata": {},
   "outputs": [
    {
     "data": {
      "text/html": [
       "<div>\n",
       "<style scoped>\n",
       "    .dataframe tbody tr th:only-of-type {\n",
       "        vertical-align: middle;\n",
       "    }\n",
       "\n",
       "    .dataframe tbody tr th {\n",
       "        vertical-align: top;\n",
       "    }\n",
       "\n",
       "    .dataframe thead th {\n",
       "        text-align: right;\n",
       "    }\n",
       "</style>\n",
       "<table border=\"1\" class=\"dataframe\">\n",
       "  <thead>\n",
       "    <tr style=\"text-align: right;\">\n",
       "      <th></th>\n",
       "      <th>monster_name</th>\n",
       "      <th>score</th>\n",
       "    </tr>\n",
       "  </thead>\n",
       "  <tbody>\n",
       "    <tr>\n",
       "      <th>11213</th>\n",
       "      <td>wererat</td>\n",
       "      <td>0.144845</td>\n",
       "    </tr>\n",
       "    <tr>\n",
       "      <th>11212</th>\n",
       "      <td>gargoyle</td>\n",
       "      <td>0.144378</td>\n",
       "    </tr>\n",
       "    <tr>\n",
       "      <th>11211</th>\n",
       "      <td>doppelganger</td>\n",
       "      <td>0.049783</td>\n",
       "    </tr>\n",
       "    <tr>\n",
       "      <th>11215</th>\n",
       "      <td>revenant</td>\n",
       "      <td>0.039955</td>\n",
       "    </tr>\n",
       "    <tr>\n",
       "      <th>11217</th>\n",
       "      <td>vampire spawn</td>\n",
       "      <td>0.037234</td>\n",
       "    </tr>\n",
       "    <tr>\n",
       "      <th>11224</th>\n",
       "      <td>thug</td>\n",
       "      <td>0.016254</td>\n",
       "    </tr>\n",
       "    <tr>\n",
       "      <th>11220</th>\n",
       "      <td>assassin</td>\n",
       "      <td>0.009202</td>\n",
       "    </tr>\n",
       "    <tr>\n",
       "      <th>11468</th>\n",
       "      <td>piercer</td>\n",
       "      <td>0.000000</td>\n",
       "    </tr>\n",
       "    <tr>\n",
       "      <th>11469</th>\n",
       "      <td>quaggoth</td>\n",
       "      <td>0.000000</td>\n",
       "    </tr>\n",
       "    <tr>\n",
       "      <th>11470</th>\n",
       "      <td>roper</td>\n",
       "      <td>0.000000</td>\n",
       "    </tr>\n",
       "  </tbody>\n",
       "</table>\n",
       "</div>"
      ],
      "text/plain": [
       "        monster_name     score\n",
       "11213        wererat  0.144845\n",
       "11212       gargoyle  0.144378\n",
       "11211   doppelganger  0.049783\n",
       "11215       revenant  0.039955\n",
       "11217  vampire spawn  0.037234\n",
       "11224           thug  0.016254\n",
       "11220       assassin  0.009202\n",
       "11468        piercer  0.000000\n",
       "11469       quaggoth  0.000000\n",
       "11470          roper  0.000000"
      ]
     },
     "execution_count": 28,
     "metadata": {},
     "output_type": "execute_result"
    }
   ],
   "source": [
    "pagerank[['monster_name', 'score']].dropna().head(10)"
   ]
  },
  {
   "cell_type": "markdown",
   "metadata": {},
   "source": [
    "Vemos que los monstruos que nos devuelve el algoritmo con un _score_ mayor que 0 son los mismos monstruos que aparecen en la primera query, incluyendo también los monstrus de la propia sala. Para quedarnos solo con los monstruos que no aparecen en la sala, obtenemos los ids de los monstruos de la sala y los eliminamos del DataFrame."
   ]
  },
  {
   "cell_type": "code",
   "execution_count": 34,
   "metadata": {},
   "outputs": [
    {
     "data": {
      "text/html": [
       "<div>\n",
       "<style scoped>\n",
       "    .dataframe tbody tr th:only-of-type {\n",
       "        vertical-align: middle;\n",
       "    }\n",
       "\n",
       "    .dataframe tbody tr th {\n",
       "        vertical-align: top;\n",
       "    }\n",
       "\n",
       "    .dataframe thead th {\n",
       "        text-align: right;\n",
       "    }\n",
       "</style>\n",
       "<table border=\"1\" class=\"dataframe\">\n",
       "  <thead>\n",
       "    <tr style=\"text-align: right;\">\n",
       "      <th></th>\n",
       "      <th>monster_id</th>\n",
       "    </tr>\n",
       "  </thead>\n",
       "  <tbody>\n",
       "    <tr>\n",
       "      <th>0</th>\n",
       "      <td>11212</td>\n",
       "    </tr>\n",
       "    <tr>\n",
       "      <th>1</th>\n",
       "      <td>11213</td>\n",
       "    </tr>\n",
       "  </tbody>\n",
       "</table>\n",
       "</div>"
      ],
      "text/plain": [
       "   monster_id\n",
       "0       11212\n",
       "1       11213"
      ]
     },
     "execution_count": 34,
     "metadata": {},
     "output_type": "execute_result"
    }
   ],
   "source": [
    "query = \"\"\"\n",
    "MATCH (r:Room{room_name: $room})-[c:CONTAINS]->(m:Monster)\n",
    "// return the id of the monster\n",
    "RETURN id(m) as monster_id\"\"\"\n",
    "monsters_in_room = gds.run_cypher(query, {\"room\": \"sexy garden of presidents\"})\n",
    "monsters_in_room"
   ]
  },
  {
   "cell_type": "code",
   "execution_count": 35,
   "metadata": {},
   "outputs": [],
   "source": [
    "pagerank = pagerank[~pagerank['nodeId'].isin(monsters_in_room['monster_id'])]"
   ]
  },
  {
   "cell_type": "code",
   "execution_count": 37,
   "metadata": {},
   "outputs": [
    {
     "data": {
      "text/html": [
       "<div>\n",
       "<style scoped>\n",
       "    .dataframe tbody tr th:only-of-type {\n",
       "        vertical-align: middle;\n",
       "    }\n",
       "\n",
       "    .dataframe tbody tr th {\n",
       "        vertical-align: top;\n",
       "    }\n",
       "\n",
       "    .dataframe thead th {\n",
       "        text-align: right;\n",
       "    }\n",
       "</style>\n",
       "<table border=\"1\" class=\"dataframe\">\n",
       "  <thead>\n",
       "    <tr style=\"text-align: right;\">\n",
       "      <th></th>\n",
       "      <th>monster_name</th>\n",
       "      <th>score</th>\n",
       "    </tr>\n",
       "  </thead>\n",
       "  <tbody>\n",
       "    <tr>\n",
       "      <th>11211</th>\n",
       "      <td>doppelganger</td>\n",
       "      <td>0.049783</td>\n",
       "    </tr>\n",
       "    <tr>\n",
       "      <th>11215</th>\n",
       "      <td>revenant</td>\n",
       "      <td>0.039955</td>\n",
       "    </tr>\n",
       "    <tr>\n",
       "      <th>11217</th>\n",
       "      <td>vampire spawn</td>\n",
       "      <td>0.037234</td>\n",
       "    </tr>\n",
       "    <tr>\n",
       "      <th>11224</th>\n",
       "      <td>thug</td>\n",
       "      <td>0.016254</td>\n",
       "    </tr>\n",
       "    <tr>\n",
       "      <th>11220</th>\n",
       "      <td>assassin</td>\n",
       "      <td>0.009202</td>\n",
       "    </tr>\n",
       "  </tbody>\n",
       "</table>\n",
       "</div>"
      ],
      "text/plain": [
       "        monster_name     score\n",
       "11211   doppelganger  0.049783\n",
       "11215       revenant  0.039955\n",
       "11217  vampire spawn  0.037234\n",
       "11224           thug  0.016254\n",
       "11220       assassin  0.009202"
      ]
     },
     "execution_count": 37,
     "metadata": {},
     "output_type": "execute_result"
    }
   ],
   "source": [
    "pagerank[['monster_name', 'score']].dropna().head(5)"
   ]
  },
  {
   "cell_type": "code",
   "execution_count": 42,
   "metadata": {},
   "outputs": [],
   "source": [
    "def recommend_monsters_gds(gds, room):\n",
    "    try:\n",
    "        gds.graph.drop(\"rooms_monsters\")\n",
    "    except:\n",
    "        pass\n",
    "\n",
    "    G, result = gds.graph.project(\n",
    "    'rooms_monsters',\n",
    "    ['Room', 'Monster'],\n",
    "    {'CONTAINS': {'orientation': 'UNDIRECTED'}}\n",
    "    )\n",
    "    source_id = gds.find_node_id([\"Room\"], {\"room_name\": room})\n",
    "    pagerank = gds.pageRank.stream(G, maxIterations=20, dampingFactor=0.85, sourceNodes=[source_id]).sort_values(\"score\", ascending=False)\n",
    "    pagerank['node'] = gds.util.asNodes(pagerank['nodeId'].to_list())\n",
    "    pagerank['monster_name'] = pagerank['node'].apply(lambda x: x['name'])\n",
    "    monsters_in_room = gds.run_cypher(query, {\"room\": room})\n",
    "    pagerank = pagerank[~pagerank['nodeId'].isin(monsters_in_room['monster_id'])]\n",
    "    return pagerank[['monster_name', 'score']].dropna().head(5)"
   ]
  },
  {
   "cell_type": "code",
   "execution_count": 43,
   "metadata": {},
   "outputs": [
    {
     "data": {
      "text/html": [
       "<div>\n",
       "<style scoped>\n",
       "    .dataframe tbody tr th:only-of-type {\n",
       "        vertical-align: middle;\n",
       "    }\n",
       "\n",
       "    .dataframe tbody tr th {\n",
       "        vertical-align: top;\n",
       "    }\n",
       "\n",
       "    .dataframe thead th {\n",
       "        text-align: right;\n",
       "    }\n",
       "</style>\n",
       "<table border=\"1\" class=\"dataframe\">\n",
       "  <thead>\n",
       "    <tr style=\"text-align: right;\">\n",
       "      <th></th>\n",
       "      <th>monster_name</th>\n",
       "      <th>score</th>\n",
       "    </tr>\n",
       "  </thead>\n",
       "  <tbody>\n",
       "    <tr>\n",
       "      <th>11211</th>\n",
       "      <td>doppelganger</td>\n",
       "      <td>0.049783</td>\n",
       "    </tr>\n",
       "    <tr>\n",
       "      <th>11215</th>\n",
       "      <td>revenant</td>\n",
       "      <td>0.039955</td>\n",
       "    </tr>\n",
       "    <tr>\n",
       "      <th>11217</th>\n",
       "      <td>vampire spawn</td>\n",
       "      <td>0.037234</td>\n",
       "    </tr>\n",
       "    <tr>\n",
       "      <th>11224</th>\n",
       "      <td>thug</td>\n",
       "      <td>0.016254</td>\n",
       "    </tr>\n",
       "    <tr>\n",
       "      <th>11220</th>\n",
       "      <td>assassin</td>\n",
       "      <td>0.009202</td>\n",
       "    </tr>\n",
       "  </tbody>\n",
       "</table>\n",
       "</div>"
      ],
      "text/plain": [
       "        monster_name     score\n",
       "11211   doppelganger  0.049783\n",
       "11215       revenant  0.039955\n",
       "11217  vampire spawn  0.037234\n",
       "11224           thug  0.016254\n",
       "11220       assassin  0.009202"
      ]
     },
     "execution_count": 43,
     "metadata": {},
     "output_type": "execute_result"
    }
   ],
   "source": [
    "recommend_monsters_gds(gds, \"sexy garden of presidents\")"
   ]
  }
 ],
 "metadata": {
  "kernelspec": {
   "display_name": "Python 3 (ipykernel)",
   "language": "python",
   "name": "python3"
  },
  "language_info": {
   "codemirror_mode": {
    "name": "ipython",
    "version": 3
   },
   "file_extension": ".py",
   "mimetype": "text/x-python",
   "name": "python",
   "nbconvert_exporter": "python",
   "pygments_lexer": "ipython3",
   "version": "3.11.6"
  }
 },
 "nbformat": 4,
 "nbformat_minor": 2
}
