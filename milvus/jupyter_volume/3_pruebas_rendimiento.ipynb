{
 "cells": [
  {
   "cell_type": "code",
   "execution_count": 1,
   "id": "c9934ff9-69fa-4a72-beef-20eeb3ae5012",
   "metadata": {},
   "outputs": [
    {
     "name": "stdout",
     "output_type": "stream",
     "text": [
      "Defaulting to user installation because normal site-packages is not writeable\n",
      "Requirement already satisfied: matplotlib in /home/pablo/.local/lib/python3.10/site-packages (3.9.0)\n",
      "Requirement already satisfied: kiwisolver>=1.3.1 in /home/pablo/.local/lib/python3.10/site-packages (from matplotlib) (1.4.5)\n",
      "Requirement already satisfied: fonttools>=4.22.0 in /home/pablo/.local/lib/python3.10/site-packages (from matplotlib) (4.51.0)\n",
      "Requirement already satisfied: numpy>=1.23 in /usr/local/lib/python3.10/dist-packages (from matplotlib) (1.26.4)\n",
      "Requirement already satisfied: cycler>=0.10 in /home/pablo/.local/lib/python3.10/site-packages (from matplotlib) (0.12.1)\n",
      "Requirement already satisfied: python-dateutil>=2.7 in /usr/local/lib/python3.10/dist-packages (from matplotlib) (2.9.0.post0)\n",
      "Requirement already satisfied: contourpy>=1.0.1 in /home/pablo/.local/lib/python3.10/site-packages (from matplotlib) (1.2.1)\n",
      "Requirement already satisfied: pillow>=8 in /usr/local/lib/python3.10/dist-packages (from matplotlib) (10.3.0)\n",
      "Requirement already satisfied: pyparsing>=2.3.1 in /home/pablo/.local/lib/python3.10/site-packages (from matplotlib) (3.1.2)\n",
      "Requirement already satisfied: packaging>=20.0 in /usr/local/lib/python3.10/dist-packages (from matplotlib) (24.0)\n",
      "Requirement already satisfied: six>=1.5 in /usr/local/lib/python3.10/dist-packages (from python-dateutil>=2.7->matplotlib) (1.16.0)\n"
     ]
    }
   ],
   "source": [
    "!pip install matplotlib"
   ]
  },
  {
   "cell_type": "code",
   "execution_count": 2,
   "id": "f35d7a6e-0dc7-4f88-9fad-3fabeb059946",
   "metadata": {},
   "outputs": [],
   "source": [
    "import os\n",
    "from utils import (\n",
    "    create_client,\n",
    "    create_schema,\n",
    "    create_collection,\n",
    "    load_images,\n",
    "    create_index,\n",
    "    search_by_image,\n",
    "    search_by_text,\n",
    "    draw_images,\n",
    ")\n",
    "import time\n",
    "import matplotlib.pyplot as plt\n",
    "from pymilvus import MilvusClient\n",
    "from clip_embeddings_generator import ClipEmbeddingsGenerator"
   ]
  },
  {
   "cell_type": "markdown",
   "id": "eb009c9e",
   "metadata": {},
   "source": [
    "Índices que vamos a testear:\n",
    "\n",
    "### 1. IVF_FLAT (Inverted File System with Flat Search)\n",
    "Es una variante del índice de cuantización vectorial que primero divide el espacio del vector en regiones utilizando un algoritmo de clustering como K-means. Cada vector se asigna al clúster más cercano y se almacena su representación exacta. Durante la búsqueda, sólo se explora el clúster (o los clústeres) más cercano al vector de consulta, reduciendo significativamente el número de comparaciones necesarias.\n",
    "\n",
    "**Parámetros**:\n",
    "\n",
    "- `nlist`: Especifica el número de clústeres a utilizar. Un valor más alto puede mejorar la precisión de la búsqueda a costa de utilizar más memoria y aumentar el tiempo de indexación. Un valor de `32` está equilibrado para un conjunto de datos de tamaño medio como el de 229 imágenes.\n",
    "\n",
    "### 2. HNSW (Hierarchical Navigable Small World)\n",
    "\n",
    "Construye un grafo de múltiples capas donde cada capa es un grafo \"de mundo pequeño\". La capa superior tiene menos nodos y sirve como entrada rápida a las capas inferiores que contienen más nodos. Durante la inserción, cada nuevo vector se conecta a los nodos existentes de manera que se mantenga la propiedad del mundo pequeño, asegurando que cualquier nodo pueda ser alcanzado desde cualquier otro en un pequeño número de saltos. Para la búsqueda, se navega desde la capa superior hacia la inferior, aprovechando estos atajos para encontrar rápidamente los vecinos más cercanos del vector de consulta.\n",
    "\n",
    "**Parámetros**:\n",
    "\n",
    "- `M`: Controla el número de conexiones de borde que cada nodo tiene en el grafo. Un valor más alto puede mejorar la precisión pero aumenta el uso de memoria.\n",
    "- `efConstruction`: Controla el tamaño de la cola dinámica usada durante la construcción del índice, afectando la calidad del grafo. Un valor más alto puede mejorar la precisión pero aumenta el tiempo de construcción del índice.\n",
    "\n",
    "### 3. Métricas de Distancia\n",
    "- `L2` (Distancia euclídea): Calcula la distancia geométrica tradicional entre dos puntos. Es efectiva cuando la magnitud de los vectores es importante.\n",
    "- `IP` (Inner Product): Calcula la similitud como el producto punto de dos vectores, lo cual es útil para medir similitud en términos de ángulo, independientemente de la magnitud.\n",
    "- `COSINE` (\n"
   ]
  },
  {
   "cell_type": "code",
   "execution_count": null,
   "id": "7f100192-d9d0-40d6-adfd-35bcea2fa1a4",
   "metadata": {},
   "outputs": [
    {
     "name": "stderr",
     "output_type": "stream",
     "text": [
      "Failed to create new connection using: 97e1fbd9096044fe9bd2e9f421e9d945\n"
     ]
    }
   ],
   "source": [
    "# Configuraciones de índices y métricas para probar\n",
    "index_metrics = [\n",
    "    {\"index_type\": \"FLAT\", \"metric_type\": \"COSINE\", \"params\": {}},\n",
    "    {\"index_type\": \"FLAT\", \"metric_type\": \"L2\", \"params\": {}},\n",
    "    {\"index_type\": \"FLAT\", \"metric_type\": \"IP\", \"params\": {}},\n",
    "    {\"index_type\": \"IVF_FLAT\", \"metric_type\": \"COSINE\", \"params\": {\"nlist\": 4}},\n",
    "    {\"index_type\": \"IVF_FLAT\", \"metric_type\": \"COSINE\", \"params\": {\"nlist\": 8}},\n",
    "    {\"index_type\": \"IVF_FLAT\", \"metric_type\": \"COSINE\", \"params\": {\"nlist\": 16}},\n",
    "    {\n",
    "        \"index_type\": \"HNSW\",\n",
    "        \"metric_type\": \"COSINE\",\n",
    "        \"params\": {\"M\": 2, \"efConstruction\": 500},\n",
    "    },\n",
    "    {\n",
    "        \"index_type\": \"HNSW\",\n",
    "        \"metric_type\": \"IP\",\n",
    "        \"params\": {\"M\": 4, \"efConstruction\": 500},\n",
    "    },\n",
    "    {\n",
    "        \"index_type\": \"HNSW\",\n",
    "        \"metric_type\": \"IP\",\n",
    "        \"params\": {\"M\": 8, \"efConstruction\": 500},\n",
    "    },\n",
    "]\n",
    "\n",
    "# Crear cliente y esquema\n",
    "client: MilvusClient = create_client()\n",
    "schema = create_schema()\n",
    "\n",
    "# Inicializar el generador de embeddings\n",
    "embedder = ClipEmbeddingsGenerator()"
   ]
  },
  {
   "cell_type": "code",
   "execution_count": null,
   "id": "ac8c24e7",
   "metadata": {},
   "outputs": [],
   "source": [
    "image_dir = \"images/\"\n",
    "image_paths = [\n",
    "    os.path.join(image_dir, img)\n",
    "    for img in os.listdir(image_dir)\n",
    "    if img.endswith(\".png\")\n",
    "]"
   ]
  },
  {
   "cell_type": "code",
   "execution_count": null,
   "id": "1ea7a35f",
   "metadata": {},
   "outputs": [],
   "source": [
    "# Crea y carga imágenes en diferentes colecciones para cada configuración de índice\n",
    "for config in index_metrics:\n",
    "    collection_name = f\"avatar_{config['index_type']}_{config['metric_type']}\"\n",
    "    create_collection(client, schema, collection_name)\n",
    "    load_images(embedder, client, collection_name)\n",
    "    start_time = time.perf_counter()\n",
    "    create_index(client, collection_name, config=config)\n",
    "    client.load_collection(collection_name=collection_name)\n",
    "    elapsed_time_load = time.perf_counter() - start_time\n",
    "    print(f\"Collection: '{collection_name}', config = {config['params']}\")\n",
    "    print(f\"Time to load: {elapsed_time_load}\")\n",
    "    \n",
    "    # Ejemplo de búsqueda y medición de tiempo\n",
    "    text_query = \"An old cat\"\n",
    "    start_time = time.perf_counter()\n",
    "    for _ in range(10):\n",
    "        search_results = search_by_text(client, collection_name, embedder, text_query)\n",
    "    elapsed_time = time.perf_counter() - start_time\n",
    "    \n",
    "    \n",
    "    print(f\"Time to search {elapsed_time}\")\n",
    "    result_ids = [result[\"id\"] for result in search_results[0]]\n",
    "    image_paths_result = [image_paths[result_id] for result_id in result_ids]\n",
    "    result_titles = [f\"{result['id']} - dist: {result['distance']:.2f}\" for result in search_results[0]]\n",
    "    \n",
    "    draw_images(image_paths_result, result_titles)\n",
    "    plt.show()\n",
    "    \n",
    "    # Liberar la colección después de la prueba\n",
    "    client.release_collection(collection_name)"
   ]
  },
  {
   "cell_type": "code",
   "execution_count": null,
   "id": "5a3c647e-b039-413d-9655-3d00cab19868",
   "metadata": {},
   "outputs": [],
   "source": []
  }
 ],
 "metadata": {
  "kernelspec": {
   "display_name": "Python 3 (ipykernel)",
   "language": "python",
   "name": "python3"
  },
  "language_info": {
   "codemirror_mode": {
    "name": "ipython",
    "version": 3
   },
   "file_extension": ".py",
   "mimetype": "text/x-python",
   "name": "python",
   "nbconvert_exporter": "python",
   "pygments_lexer": "ipython3",
   "version": "3.10.12"
  }
 },
 "nbformat": 4,
 "nbformat_minor": 5
}
